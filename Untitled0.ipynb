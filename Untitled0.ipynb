{
  "nbformat": 4,
  "nbformat_minor": 0,
  "metadata": {
    "colab": {
      "provenance": [],
      "authorship_tag": "ABX9TyODODifAQzt9DIDHAJZsKwS",
      "include_colab_link": true
    },
    "kernelspec": {
      "name": "python3",
      "display_name": "Python 3"
    },
    "language_info": {
      "name": "python"
    }
  },
  "cells": [
    {
      "cell_type": "markdown",
      "metadata": {
        "id": "view-in-github",
        "colab_type": "text"
      },
      "source": [
        "<a href=\"https://colab.research.google.com/github/ikld22/API/blob/master/Untitled0.ipynb\" target=\"_parent\"><img src=\"https://colab.research.google.com/assets/colab-badge.svg\" alt=\"Open In Colab\"/></a>"
      ]
    },
    {
      "cell_type": "code",
      "execution_count": 25,
      "metadata": {
        "id": "VjG0OAAO16xK"
      },
      "outputs": [],
      "source": [
        "import numpy as np\n",
        "import pandas as pd\n",
        "import matplotlib.pyplot as plt\n",
        "from sklearn.preprocessing import StandardScaler\n",
        "from imblearn.over_sampling import RandomOverSampler"
      ]
    },
    {
      "cell_type": "code",
      "source": [
        "clos = [\"fLength\",\"fWidth\",\"fSize\",\"fConc\",\"fConc1\",\"fAsym\",\"fM3Long\",\"fM3Trans\",\"fAlpha\",\"fDist\",\"class\"]\n",
        "\n",
        "df = pd.read_csv(\"magic04.data\", names = clos)\n",
        "df.head()"
      ],
      "metadata": {
        "id": "pJJai74t1_V2"
      },
      "execution_count": null,
      "outputs": []
    },
    {
      "cell_type": "code",
      "source": [
        "df[\"class\"].unique()\n",
        "#to find the unique vluae"
      ],
      "metadata": {
        "id": "P3Jh08J83OWH"
      },
      "execution_count": null,
      "outputs": []
    },
    {
      "cell_type": "code",
      "source": [
        "#convert the class vluae from String to int\n",
        "df[\"class\"] =(df[\"class\"] ==\"g\").astype(int)"
      ],
      "metadata": {
        "id": "ZR-ILD_Y3Tpj"
      },
      "execution_count": 14,
      "outputs": []
    },
    {
      "cell_type": "code",
      "source": [
        "df.head()\n"
      ],
      "metadata": {
        "id": "0vWCruXe3ZNZ"
      },
      "execution_count": null,
      "outputs": []
    },
    {
      "cell_type": "code",
      "source": [
        "for label in clos[:-1]:\n",
        "    plt.hist(df[df[\"class\"]==1][label],color='blue',label='gamma',alpha=0.7,density=True)\n",
        "    plt.hist(df[df[\"class\"]==0][label],color='red',label='hadron',alpha=0.7,density=True)\n",
        "    plt.title(label)\n",
        "    plt.ylabel(\"probabitity\")\n",
        "    plt.xlabel(label)\n",
        "    plt.legend()\n",
        "    plt.show()\n",
        "    #histograms if the data is gmama or hadron"
      ],
      "metadata": {
        "id": "5mYywImb3dBj"
      },
      "execution_count": null,
      "outputs": []
    },
    {
      "cell_type": "markdown",
      "source": [
        "Tarin, validattion, test datasets"
      ],
      "metadata": {
        "id": "tHvIaB0t5OC9"
      }
    },
    {
      "cell_type": "code",
      "source": [
        "train, valid, test =np.split(df.sample(frac=1),[int(0.6 * len(df)), int(0.8\n",
        " *len(df))])\n",
        "#here we split data into somell groub"
      ],
      "metadata": {
        "id": "8tMVDhMR5W0Q"
      },
      "execution_count": 58,
      "outputs": []
    },
    {
      "cell_type": "code",
      "source": [
        "def scale_dataset(dataframe, oversample=False):\n",
        "  X = dataframe[dataframe.columns[:-1]].values\n",
        "  y = dataframe[dataframe.columns[-1]].values\n",
        "\n",
        "  scalar = StandardScaler()\n",
        "  X = scalar.fit_transform(X)\n",
        "\n",
        "  if oversample:\n",
        "   ros =RandomOverSampler()\n",
        "   X, y = ros.fit_resample(X, y)\n",
        "  #لموزنة بيانات الصح والغلط\n",
        "  data = np.hstack((X,np.reshape(y, (-1, 1 ))))\n",
        "\n",
        "  return data,X,y\n"
      ],
      "metadata": {
        "id": "-8Q3MX1Hw9K8"
      },
      "execution_count": 59,
      "outputs": []
    },
    {
      "cell_type": "code",
      "source": [
        "#print(len(train[train[\"class\"]==1])) # is gamma\n",
        "#print(len(train[train[\"class\"]==0])) # is hordan\n",
        "\n",
        "#here the we print the train we can see the true != to flass and we should fixet"
      ],
      "metadata": {
        "id": "e8UAex4lzTsH"
      },
      "execution_count": null,
      "outputs": []
    },
    {
      "cell_type": "code",
      "source": [
        "train,X_train, y_train = scale_dataset(train, oversample=True)\n",
        "valid,X_valid, y_valid = scale_dataset(valid, oversample=False)\n",
        "test, X_test, y_test   = scale_dataset(test, oversample=False)"
      ],
      "metadata": {
        "id": "KRy1IK4p9eE-"
      },
      "execution_count": 60,
      "outputs": []
    },
    {
      "cell_type": "code",
      "source": [],
      "metadata": {
        "id": "JWSDSpLYArqj"
      },
      "execution_count": null,
      "outputs": []
    }
  ]
}